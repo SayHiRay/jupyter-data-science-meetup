{
 "cells": [
  {
   "cell_type": "markdown",
   "metadata": {
    "slideshow": {
     "slide_type": "slide"
    }
   },
   "source": [
    "<h1><center>\n",
    "  <img src=\"DataScienceMeetup2.png\">\n",
    "  <br>  <br>\n",
    "  <img src=\"https://media0.giphy.com/media/67XS8111U1uuI/giphy.gif\">\n",
    "</center></h1>\n"
   ]
  },
  {
   "cell_type": "markdown",
   "metadata": {
    "slideshow": {
     "slide_type": "subslide"
    }
   },
   "source": [
    "## Welcome to the kickoff event\n",
    "- Introduction to the Meetup -- our philosophy and focus\n",
    "- A quick overview of using Jupyter for Data Science Workflows\n",
    "- Discussion and feedback!\n",
    "- Pizza and Beers at the Italian Place downstairs"
   ]
  },
  {
   "cell_type": "markdown",
   "metadata": {
    "slideshow": {
     "slide_type": "subslide"
    }
   },
   "source": [
    "<h1><center>\n",
    "  <b>Your Host: Future Cities Laboratory</b><br>\n",
    "  <img src=\"fcl.png\">\n",
    "  http://www.fcl.ethz.ch/\n",
    "</center></h1>"
   ]
  },
  {
   "cell_type": "markdown",
   "metadata": {
    "collapsed": true,
    "slideshow": {
     "slide_type": "subslide"
    }
   },
   "source": [
    "<h1><center>\n",
    "  <b>Dr. Clayton Miller</b><br>\n",
    "  <img src=\"http://www.fcl.ethz.ch/people/Researchers/ClaytonMiller/_jcr_content/par/twocolumn/par_left/fullwidthimage/image.imageformat.twocolumn.2012775819.png\">\n",
    "<br>\n",
    "https://www.researchgate.net/profile/Clayton_Miller2\n",
    "</center></h1>"
   ]
  },
  {
   "cell_type": "markdown",
   "metadata": {
    "collapsed": true,
    "slideshow": {
     "slide_type": "subslide"
    }
   },
   "source": [
    "# Who are you all?"
   ]
  },
  {
   "cell_type": "markdown",
   "metadata": {
    "slideshow": {
     "slide_type": "fragment"
    }
   },
   "source": [
    "- Computer Scientist"
   ]
  },
  {
   "cell_type": "markdown",
   "metadata": {
    "slideshow": {
     "slide_type": "fragment"
    }
   },
   "source": [
    "- Regular Scientist/Researcher?"
   ]
  },
  {
   "cell_type": "markdown",
   "metadata": {
    "slideshow": {
     "slide_type": "fragment"
    }
   },
   "source": [
    "- Engineer?"
   ]
  },
  {
   "cell_type": "markdown",
   "metadata": {
    "slideshow": {
     "slide_type": "fragment"
    }
   },
   "source": [
    "- Architect/Urban Planner"
   ]
  },
  {
   "cell_type": "markdown",
   "metadata": {
    "slideshow": {
     "slide_type": "fragment"
    }
   },
   "source": [
    "- Other?"
   ]
  },
  {
   "cell_type": "markdown",
   "metadata": {
    "slideshow": {
     "slide_type": "subslide"
    }
   },
   "source": [
    "## Where institution do you represent?"
   ]
  },
  {
   "cell_type": "markdown",
   "metadata": {
    "slideshow": {
     "slide_type": "fragment"
    }
   },
   "source": [
    "- National University of Singapore?"
   ]
  },
  {
   "cell_type": "markdown",
   "metadata": {
    "slideshow": {
     "slide_type": "fragment"
    }
   },
   "source": [
    "- A CREATE Entity?"
   ]
  },
  {
   "cell_type": "markdown",
   "metadata": {
    "slideshow": {
     "slide_type": "fragment"
    }
   },
   "source": [
    "- Yale-NUS?"
   ]
  },
  {
   "cell_type": "markdown",
   "metadata": {
    "slideshow": {
     "slide_type": "fragment"
    }
   },
   "source": [
    "- Other?"
   ]
  },
  {
   "cell_type": "markdown",
   "metadata": {
    "slideshow": {
     "slide_type": "subslide"
    }
   },
   "source": [
    "## What 'level' are you at in your analytics/data science skill set?"
   ]
  },
  {
   "cell_type": "markdown",
   "metadata": {
    "slideshow": {
     "slide_type": "fragment"
    }
   },
   "source": [
    "- Just getting started? This sh\\*t is confusing. Please help me."
   ]
  },
  {
   "cell_type": "markdown",
   "metadata": {
    "slideshow": {
     "slide_type": "fragment"
    }
   },
   "source": [
    "- 1-5 years of experience? I've got a grip on this sh\\*t and I'm borderline dangerous."
   ]
  },
  {
   "cell_type": "markdown",
   "metadata": {
    "slideshow": {
     "slide_type": "fragment"
    }
   },
   "source": [
    "- 5+ years? This sh\\*t is getting easier, but I'm curious about new things!"
   ]
  },
  {
   "cell_type": "markdown",
   "metadata": {
    "slideshow": {
     "slide_type": "subslide"
    }
   },
   "source": [
    "There are many Data Science and Big Data Meetup groups in Singapore. How will this one be different?\n",
    "\n",
    "\n",
    "\n",
    "The goal for this meetup group is to be focused on **NUS ecosystem** with topics related mostly to **open source tools and techniques** that facilitate **reproducible research**"
   ]
  },
  {
   "cell_type": "markdown",
   "metadata": {
    "slideshow": {
     "slide_type": "subslide"
    }
   },
   "source": [
    "We will try to hold a Meetup once a month during the regular semesters, Jan-Apr and Aug-Nov, for a total of around 8 sessions per year with speakers from the NUS Ecosystem -- mostly **PhD's, PostDocs, Researchers, and Junior Professors.** Often this crowd will be at the beginner or intermediate levels of data science.\n",
    "\n",
    "This forum is focused on **interesting open-source tools and techniques** and their **applications to research**.\n",
    "\n",
    "The sessions will be around **30 min in length** with **20 min availability for discussion** and (for those who are keen and willing to pay for themselves) **food, snack, and/or beers** at the Italian place downstairs!"
   ]
  },
  {
   "cell_type": "markdown",
   "metadata": {
    "slideshow": {
     "slide_type": "slide"
    }
   },
   "source": [
    "<h1><center>\n",
    "  <b>Jupyter Environment</b>\n",
    "  <br>\n",
    "  <img src=\"https://avatars3.githubusercontent.com/u/7388996?v=3&s=200\">\n",
    "  <br>\n",
    "  http://jupyter.org/\n",
    "</center></h1>"
   ]
  },
  {
   "cell_type": "markdown",
   "metadata": {
    "slideshow": {
     "slide_type": "subslide"
    }
   },
   "source": [
    "<h1><center>\n",
    "  <b>The Jupyter Notebook is an open-source web application that allows you to create and share documents that contain live code, equations, visualizations and explanatory text. Uses include: data cleaning and transformation, numerical simulation, statistical modeling, machine learning and much more.</b>\n",
    "</center></h1>"
   ]
  },
  {
   "cell_type": "markdown",
   "metadata": {
    "slideshow": {
     "slide_type": "subslide"
    }
   },
   "source": [
    "<h1><center>\n",
    "  The Notebook has support for over 40 programming languages, including those popular in Data Science such as Python, R, Julia and Scala.\n",
    "</center></h1>"
   ]
  },
  {
   "cell_type": "markdown",
   "metadata": {
    "slideshow": {
     "slide_type": "subslide"
    }
   },
   "source": [
    "The notebooks work on the premise of \"telling an analytics story\""
   ]
  },
  {
   "cell_type": "markdown",
   "metadata": {
    "slideshow": {
     "slide_type": "fragment"
    }
   },
   "source": [
    "What does this mean?"
   ]
  },
  {
   "cell_type": "markdown",
   "metadata": {
    "slideshow": {
     "slide_type": "fragment"
    }
   },
   "source": [
    "Let's say I'm a researcher and I want to tell a story about manipulating some raw data I just collected from my experiement. I want to explore and manipulate the data while communicating to my colleague what I'm doing"
   ]
  },
  {
   "cell_type": "markdown",
   "metadata": {
    "slideshow": {
     "slide_type": "subslide"
    }
   },
   "source": [
    "I can use the Jupyter environment to organize my communication, code inputs, and code outputs in the same document!"
   ]
  },
  {
   "cell_type": "markdown",
   "metadata": {
    "slideshow": {
     "slide_type": "fragment"
    }
   },
   "source": [
    "First, I would load the data -- in this case I'll just create a quick data set using [Python](https://www.python.org/)/[Pandas](http://pandas.pydata.org/)"
   ]
  },
  {
   "cell_type": "code",
   "execution_count": 20,
   "metadata": {
    "collapsed": true,
    "slideshow": {
     "slide_type": "skip"
    }
   },
   "outputs": [],
   "source": [
    "%matplotlib inline\n",
    "import numpy as np"
   ]
  },
  {
   "cell_type": "code",
   "execution_count": 21,
   "metadata": {
    "collapsed": false,
    "slideshow": {
     "slide_type": "fragment"
    }
   },
   "outputs": [],
   "source": [
    "import pandas as pd\n",
    "data = pd.DataFrame({'A' : ['foo', 'bar', 'foo', 'bar','foo', 'bar', 'foo', 'foo'],\n",
    "                   'B' : ['one', 'one', 'two', 'three','two', 'two', 'one', 'three'],\n",
    "                   'C' : np.random.randn(8),\n",
    "                   'D' : np.random.randn(8)})"
   ]
  },
  {
   "cell_type": "markdown",
   "metadata": {
    "slideshow": {
     "slide_type": "subslide"
    }
   },
   "source": [
    "Now I can take a look at my collected data"
   ]
  },
  {
   "cell_type": "code",
   "execution_count": 22,
   "metadata": {
    "collapsed": false
   },
   "outputs": [
    {
     "data": {
      "text/html": [
       "<div>\n",
       "<table border=\"1\" class=\"dataframe\">\n",
       "  <thead>\n",
       "    <tr style=\"text-align: right;\">\n",
       "      <th></th>\n",
       "      <th>A</th>\n",
       "      <th>B</th>\n",
       "      <th>C</th>\n",
       "      <th>D</th>\n",
       "    </tr>\n",
       "  </thead>\n",
       "  <tbody>\n",
       "    <tr>\n",
       "      <th>0</th>\n",
       "      <td>foo</td>\n",
       "      <td>one</td>\n",
       "      <td>-0.256187</td>\n",
       "      <td>-1.199390</td>\n",
       "    </tr>\n",
       "    <tr>\n",
       "      <th>1</th>\n",
       "      <td>bar</td>\n",
       "      <td>one</td>\n",
       "      <td>1.557349</td>\n",
       "      <td>-0.248538</td>\n",
       "    </tr>\n",
       "    <tr>\n",
       "      <th>2</th>\n",
       "      <td>foo</td>\n",
       "      <td>two</td>\n",
       "      <td>-0.079948</td>\n",
       "      <td>-2.862927</td>\n",
       "    </tr>\n",
       "    <tr>\n",
       "      <th>3</th>\n",
       "      <td>bar</td>\n",
       "      <td>three</td>\n",
       "      <td>0.956436</td>\n",
       "      <td>-1.157413</td>\n",
       "    </tr>\n",
       "    <tr>\n",
       "      <th>4</th>\n",
       "      <td>foo</td>\n",
       "      <td>two</td>\n",
       "      <td>0.377163</td>\n",
       "      <td>0.961778</td>\n",
       "    </tr>\n",
       "    <tr>\n",
       "      <th>5</th>\n",
       "      <td>bar</td>\n",
       "      <td>two</td>\n",
       "      <td>-0.019665</td>\n",
       "      <td>0.382646</td>\n",
       "    </tr>\n",
       "    <tr>\n",
       "      <th>6</th>\n",
       "      <td>foo</td>\n",
       "      <td>one</td>\n",
       "      <td>0.339223</td>\n",
       "      <td>-1.190486</td>\n",
       "    </tr>\n",
       "    <tr>\n",
       "      <th>7</th>\n",
       "      <td>foo</td>\n",
       "      <td>three</td>\n",
       "      <td>1.028830</td>\n",
       "      <td>0.180391</td>\n",
       "    </tr>\n",
       "  </tbody>\n",
       "</table>\n",
       "</div>"
      ],
      "text/plain": [
       "     A      B         C         D\n",
       "0  foo    one -0.256187 -1.199390\n",
       "1  bar    one  1.557349 -0.248538\n",
       "2  foo    two -0.079948 -2.862927\n",
       "3  bar  three  0.956436 -1.157413\n",
       "4  foo    two  0.377163  0.961778\n",
       "5  bar    two -0.019665  0.382646\n",
       "6  foo    one  0.339223 -1.190486\n",
       "7  foo  three  1.028830  0.180391"
      ]
     },
     "execution_count": 22,
     "metadata": {},
     "output_type": "execute_result"
    }
   ],
   "source": [
    "data"
   ]
  },
  {
   "cell_type": "markdown",
   "metadata": {
    "slideshow": {
     "slide_type": "subslide"
    }
   },
   "source": [
    "I can add a new column to my dataset"
   ]
  },
  {
   "cell_type": "code",
   "execution_count": 23,
   "metadata": {
    "collapsed": false
   },
   "outputs": [
    {
     "data": {
      "text/html": [
       "<div>\n",
       "<table border=\"1\" class=\"dataframe\">\n",
       "  <thead>\n",
       "    <tr style=\"text-align: right;\">\n",
       "      <th></th>\n",
       "      <th>A</th>\n",
       "      <th>B</th>\n",
       "      <th>C</th>\n",
       "      <th>D</th>\n",
       "      <th>E</th>\n",
       "    </tr>\n",
       "  </thead>\n",
       "  <tbody>\n",
       "    <tr>\n",
       "      <th>0</th>\n",
       "      <td>foo</td>\n",
       "      <td>one</td>\n",
       "      <td>-0.256187</td>\n",
       "      <td>-1.199390</td>\n",
       "      <td>0.642234</td>\n",
       "    </tr>\n",
       "    <tr>\n",
       "      <th>1</th>\n",
       "      <td>bar</td>\n",
       "      <td>one</td>\n",
       "      <td>1.557349</td>\n",
       "      <td>-0.248538</td>\n",
       "      <td>1.030038</td>\n",
       "    </tr>\n",
       "    <tr>\n",
       "      <th>2</th>\n",
       "      <td>foo</td>\n",
       "      <td>two</td>\n",
       "      <td>-0.079948</td>\n",
       "      <td>-2.862927</td>\n",
       "      <td>0.912678</td>\n",
       "    </tr>\n",
       "    <tr>\n",
       "      <th>3</th>\n",
       "      <td>bar</td>\n",
       "      <td>three</td>\n",
       "      <td>0.956436</td>\n",
       "      <td>-1.157413</td>\n",
       "      <td>-0.617437</td>\n",
       "    </tr>\n",
       "    <tr>\n",
       "      <th>4</th>\n",
       "      <td>foo</td>\n",
       "      <td>two</td>\n",
       "      <td>0.377163</td>\n",
       "      <td>0.961778</td>\n",
       "      <td>-0.811211</td>\n",
       "    </tr>\n",
       "    <tr>\n",
       "      <th>5</th>\n",
       "      <td>bar</td>\n",
       "      <td>two</td>\n",
       "      <td>-0.019665</td>\n",
       "      <td>0.382646</td>\n",
       "      <td>-1.048092</td>\n",
       "    </tr>\n",
       "    <tr>\n",
       "      <th>6</th>\n",
       "      <td>foo</td>\n",
       "      <td>one</td>\n",
       "      <td>0.339223</td>\n",
       "      <td>-1.190486</td>\n",
       "      <td>0.067814</td>\n",
       "    </tr>\n",
       "    <tr>\n",
       "      <th>7</th>\n",
       "      <td>foo</td>\n",
       "      <td>three</td>\n",
       "      <td>1.028830</td>\n",
       "      <td>0.180391</td>\n",
       "      <td>-0.107621</td>\n",
       "    </tr>\n",
       "  </tbody>\n",
       "</table>\n",
       "</div>"
      ],
      "text/plain": [
       "     A      B         C         D         E\n",
       "0  foo    one -0.256187 -1.199390  0.642234\n",
       "1  bar    one  1.557349 -0.248538  1.030038\n",
       "2  foo    two -0.079948 -2.862927  0.912678\n",
       "3  bar  three  0.956436 -1.157413 -0.617437\n",
       "4  foo    two  0.377163  0.961778 -0.811211\n",
       "5  bar    two -0.019665  0.382646 -1.048092\n",
       "6  foo    one  0.339223 -1.190486  0.067814\n",
       "7  foo  three  1.028830  0.180391 -0.107621"
      ]
     },
     "execution_count": 23,
     "metadata": {},
     "output_type": "execute_result"
    }
   ],
   "source": [
    "data['E'] = np.random.randn(8)\n",
    "data"
   ]
  },
  {
   "cell_type": "markdown",
   "metadata": {
    "slideshow": {
     "slide_type": "subslide"
    }
   },
   "source": [
    "I can do some simple stats on it"
   ]
  },
  {
   "cell_type": "code",
   "execution_count": 24,
   "metadata": {
    "collapsed": false
   },
   "outputs": [
    {
     "data": {
      "text/html": [
       "<div>\n",
       "<table border=\"1\" class=\"dataframe\">\n",
       "  <thead>\n",
       "    <tr style=\"text-align: right;\">\n",
       "      <th></th>\n",
       "      <th>C</th>\n",
       "      <th>D</th>\n",
       "      <th>E</th>\n",
       "    </tr>\n",
       "  </thead>\n",
       "  <tbody>\n",
       "    <tr>\n",
       "      <th>count</th>\n",
       "      <td>8.000000</td>\n",
       "      <td>8.000000</td>\n",
       "      <td>8.000000</td>\n",
       "    </tr>\n",
       "    <tr>\n",
       "      <th>mean</th>\n",
       "      <td>0.487900</td>\n",
       "      <td>-0.641742</td>\n",
       "      <td>0.008550</td>\n",
       "    </tr>\n",
       "    <tr>\n",
       "      <th>std</th>\n",
       "      <td>0.635156</td>\n",
       "      <td>1.210834</td>\n",
       "      <td>0.798195</td>\n",
       "    </tr>\n",
       "    <tr>\n",
       "      <th>min</th>\n",
       "      <td>-0.256187</td>\n",
       "      <td>-2.862927</td>\n",
       "      <td>-1.048092</td>\n",
       "    </tr>\n",
       "    <tr>\n",
       "      <th>25%</th>\n",
       "      <td>-0.034736</td>\n",
       "      <td>-1.192712</td>\n",
       "      <td>-0.665881</td>\n",
       "    </tr>\n",
       "    <tr>\n",
       "      <th>50%</th>\n",
       "      <td>0.358193</td>\n",
       "      <td>-0.702975</td>\n",
       "      <td>-0.019904</td>\n",
       "    </tr>\n",
       "    <tr>\n",
       "      <th>75%</th>\n",
       "      <td>0.974534</td>\n",
       "      <td>0.230955</td>\n",
       "      <td>0.709845</td>\n",
       "    </tr>\n",
       "    <tr>\n",
       "      <th>max</th>\n",
       "      <td>1.557349</td>\n",
       "      <td>0.961778</td>\n",
       "      <td>1.030038</td>\n",
       "    </tr>\n",
       "  </tbody>\n",
       "</table>\n",
       "</div>"
      ],
      "text/plain": [
       "              C         D         E\n",
       "count  8.000000  8.000000  8.000000\n",
       "mean   0.487900 -0.641742  0.008550\n",
       "std    0.635156  1.210834  0.798195\n",
       "min   -0.256187 -2.862927 -1.048092\n",
       "25%   -0.034736 -1.192712 -0.665881\n",
       "50%    0.358193 -0.702975 -0.019904\n",
       "75%    0.974534  0.230955  0.709845\n",
       "max    1.557349  0.961778  1.030038"
      ]
     },
     "execution_count": 24,
     "metadata": {},
     "output_type": "execute_result"
    }
   ],
   "source": [
    "data.describe()"
   ]
  },
  {
   "cell_type": "markdown",
   "metadata": {
    "slideshow": {
     "slide_type": "subslide"
    }
   },
   "source": [
    "I can do some grouping by a certain column"
   ]
  },
  {
   "cell_type": "code",
   "execution_count": 25,
   "metadata": {
    "collapsed": false
   },
   "outputs": [
    {
     "data": {
      "text/html": [
       "<div>\n",
       "<table border=\"1\" class=\"dataframe\">\n",
       "  <thead>\n",
       "    <tr style=\"text-align: right;\">\n",
       "      <th></th>\n",
       "      <th>C</th>\n",
       "      <th>D</th>\n",
       "      <th>E</th>\n",
       "    </tr>\n",
       "    <tr>\n",
       "      <th>A</th>\n",
       "      <th></th>\n",
       "      <th></th>\n",
       "      <th></th>\n",
       "    </tr>\n",
       "  </thead>\n",
       "  <tbody>\n",
       "    <tr>\n",
       "      <th>bar</th>\n",
       "      <td>2.494120</td>\n",
       "      <td>-1.023305</td>\n",
       "      <td>-0.635491</td>\n",
       "    </tr>\n",
       "    <tr>\n",
       "      <th>foo</th>\n",
       "      <td>1.409081</td>\n",
       "      <td>-4.110634</td>\n",
       "      <td>0.703893</td>\n",
       "    </tr>\n",
       "  </tbody>\n",
       "</table>\n",
       "</div>"
      ],
      "text/plain": [
       "            C         D         E\n",
       "A                                \n",
       "bar  2.494120 -1.023305 -0.635491\n",
       "foo  1.409081 -4.110634  0.703893"
      ]
     },
     "execution_count": 25,
     "metadata": {},
     "output_type": "execute_result"
    }
   ],
   "source": [
    "data.groupby('A').sum()"
   ]
  },
  {
   "cell_type": "markdown",
   "metadata": {
    "slideshow": {
     "slide_type": "subslide"
    }
   },
   "source": [
    "I can select certain data by slicing my data"
   ]
  },
  {
   "cell_type": "code",
   "execution_count": 26,
   "metadata": {
    "collapsed": false
   },
   "outputs": [
    {
     "data": {
      "text/plain": [
       "A         bar\n",
       "B       three\n",
       "C    0.956436\n",
       "D    -1.15741\n",
       "E   -0.617437\n",
       "Name: 3, dtype: object"
      ]
     },
     "execution_count": 26,
     "metadata": {},
     "output_type": "execute_result"
    }
   ],
   "source": [
    "data.iloc[3]"
   ]
  },
  {
   "cell_type": "markdown",
   "metadata": {
    "slideshow": {
     "slide_type": "subslide"
    }
   },
   "source": [
    "What if we have some missing data"
   ]
  },
  {
   "cell_type": "code",
   "execution_count": 27,
   "metadata": {
    "collapsed": false
   },
   "outputs": [
    {
     "data": {
      "text/html": [
       "<div>\n",
       "<table border=\"1\" class=\"dataframe\">\n",
       "  <thead>\n",
       "    <tr style=\"text-align: right;\">\n",
       "      <th></th>\n",
       "      <th>A</th>\n",
       "      <th>B</th>\n",
       "      <th>C</th>\n",
       "      <th>D</th>\n",
       "      <th>E</th>\n",
       "      <th>F</th>\n",
       "    </tr>\n",
       "  </thead>\n",
       "  <tbody>\n",
       "    <tr>\n",
       "      <th>0</th>\n",
       "      <td>foo</td>\n",
       "      <td>one</td>\n",
       "      <td>-0.256187</td>\n",
       "      <td>-1.199390</td>\n",
       "      <td>0.642234</td>\n",
       "      <td>-0.323120</td>\n",
       "    </tr>\n",
       "    <tr>\n",
       "      <th>1</th>\n",
       "      <td>bar</td>\n",
       "      <td>one</td>\n",
       "      <td>1.557349</td>\n",
       "      <td>-0.248538</td>\n",
       "      <td>1.030038</td>\n",
       "      <td>-0.095957</td>\n",
       "    </tr>\n",
       "    <tr>\n",
       "      <th>2</th>\n",
       "      <td>foo</td>\n",
       "      <td>two</td>\n",
       "      <td>-0.079948</td>\n",
       "      <td>-2.862927</td>\n",
       "      <td>0.912678</td>\n",
       "      <td>NaN</td>\n",
       "    </tr>\n",
       "    <tr>\n",
       "      <th>3</th>\n",
       "      <td>bar</td>\n",
       "      <td>three</td>\n",
       "      <td>0.956436</td>\n",
       "      <td>-1.157413</td>\n",
       "      <td>-0.617437</td>\n",
       "      <td>NaN</td>\n",
       "    </tr>\n",
       "    <tr>\n",
       "      <th>4</th>\n",
       "      <td>foo</td>\n",
       "      <td>two</td>\n",
       "      <td>0.377163</td>\n",
       "      <td>0.961778</td>\n",
       "      <td>-0.811211</td>\n",
       "      <td>NaN</td>\n",
       "    </tr>\n",
       "    <tr>\n",
       "      <th>5</th>\n",
       "      <td>bar</td>\n",
       "      <td>two</td>\n",
       "      <td>-0.019665</td>\n",
       "      <td>0.382646</td>\n",
       "      <td>-1.048092</td>\n",
       "      <td>NaN</td>\n",
       "    </tr>\n",
       "    <tr>\n",
       "      <th>6</th>\n",
       "      <td>foo</td>\n",
       "      <td>one</td>\n",
       "      <td>0.339223</td>\n",
       "      <td>-1.190486</td>\n",
       "      <td>0.067814</td>\n",
       "      <td>NaN</td>\n",
       "    </tr>\n",
       "    <tr>\n",
       "      <th>7</th>\n",
       "      <td>foo</td>\n",
       "      <td>three</td>\n",
       "      <td>1.028830</td>\n",
       "      <td>0.180391</td>\n",
       "      <td>-0.107621</td>\n",
       "      <td>NaN</td>\n",
       "    </tr>\n",
       "  </tbody>\n",
       "</table>\n",
       "</div>"
      ],
      "text/plain": [
       "     A      B         C         D         E         F\n",
       "0  foo    one -0.256187 -1.199390  0.642234 -0.323120\n",
       "1  bar    one  1.557349 -0.248538  1.030038 -0.095957\n",
       "2  foo    two -0.079948 -2.862927  0.912678       NaN\n",
       "3  bar  three  0.956436 -1.157413 -0.617437       NaN\n",
       "4  foo    two  0.377163  0.961778 -0.811211       NaN\n",
       "5  bar    two -0.019665  0.382646 -1.048092       NaN\n",
       "6  foo    one  0.339223 -1.190486  0.067814       NaN\n",
       "7  foo  three  1.028830  0.180391 -0.107621       NaN"
      ]
     },
     "execution_count": 27,
     "metadata": {},
     "output_type": "execute_result"
    }
   ],
   "source": [
    "data.loc[0:1,'F'] = np.random.randn(2)\n",
    "data"
   ]
  },
  {
   "cell_type": "markdown",
   "metadata": {
    "slideshow": {
     "slide_type": "subslide"
    }
   },
   "source": [
    "I can deal with that too!"
   ]
  },
  {
   "cell_type": "code",
   "execution_count": 28,
   "metadata": {
    "collapsed": false
   },
   "outputs": [
    {
     "data": {
      "text/html": [
       "<div>\n",
       "<table border=\"1\" class=\"dataframe\">\n",
       "  <thead>\n",
       "    <tr style=\"text-align: right;\">\n",
       "      <th></th>\n",
       "      <th>A</th>\n",
       "      <th>B</th>\n",
       "      <th>C</th>\n",
       "      <th>D</th>\n",
       "      <th>E</th>\n",
       "      <th>F</th>\n",
       "    </tr>\n",
       "  </thead>\n",
       "  <tbody>\n",
       "    <tr>\n",
       "      <th>0</th>\n",
       "      <td>foo</td>\n",
       "      <td>one</td>\n",
       "      <td>-0.256187</td>\n",
       "      <td>-1.199390</td>\n",
       "      <td>0.642234</td>\n",
       "      <td>-0.323120</td>\n",
       "    </tr>\n",
       "    <tr>\n",
       "      <th>1</th>\n",
       "      <td>bar</td>\n",
       "      <td>one</td>\n",
       "      <td>1.557349</td>\n",
       "      <td>-0.248538</td>\n",
       "      <td>1.030038</td>\n",
       "      <td>-0.095957</td>\n",
       "    </tr>\n",
       "    <tr>\n",
       "      <th>2</th>\n",
       "      <td>foo</td>\n",
       "      <td>two</td>\n",
       "      <td>-0.079948</td>\n",
       "      <td>-2.862927</td>\n",
       "      <td>0.912678</td>\n",
       "      <td>-0.095957</td>\n",
       "    </tr>\n",
       "    <tr>\n",
       "      <th>3</th>\n",
       "      <td>bar</td>\n",
       "      <td>three</td>\n",
       "      <td>0.956436</td>\n",
       "      <td>-1.157413</td>\n",
       "      <td>-0.617437</td>\n",
       "      <td>-0.095957</td>\n",
       "    </tr>\n",
       "    <tr>\n",
       "      <th>4</th>\n",
       "      <td>foo</td>\n",
       "      <td>two</td>\n",
       "      <td>0.377163</td>\n",
       "      <td>0.961778</td>\n",
       "      <td>-0.811211</td>\n",
       "      <td>-0.095957</td>\n",
       "    </tr>\n",
       "    <tr>\n",
       "      <th>5</th>\n",
       "      <td>bar</td>\n",
       "      <td>two</td>\n",
       "      <td>-0.019665</td>\n",
       "      <td>0.382646</td>\n",
       "      <td>-1.048092</td>\n",
       "      <td>-0.095957</td>\n",
       "    </tr>\n",
       "    <tr>\n",
       "      <th>6</th>\n",
       "      <td>foo</td>\n",
       "      <td>one</td>\n",
       "      <td>0.339223</td>\n",
       "      <td>-1.190486</td>\n",
       "      <td>0.067814</td>\n",
       "      <td>-0.095957</td>\n",
       "    </tr>\n",
       "    <tr>\n",
       "      <th>7</th>\n",
       "      <td>foo</td>\n",
       "      <td>three</td>\n",
       "      <td>1.028830</td>\n",
       "      <td>0.180391</td>\n",
       "      <td>-0.107621</td>\n",
       "      <td>-0.095957</td>\n",
       "    </tr>\n",
       "  </tbody>\n",
       "</table>\n",
       "</div>"
      ],
      "text/plain": [
       "     A      B         C         D         E         F\n",
       "0  foo    one -0.256187 -1.199390  0.642234 -0.323120\n",
       "1  bar    one  1.557349 -0.248538  1.030038 -0.095957\n",
       "2  foo    two -0.079948 -2.862927  0.912678 -0.095957\n",
       "3  bar  three  0.956436 -1.157413 -0.617437 -0.095957\n",
       "4  foo    two  0.377163  0.961778 -0.811211 -0.095957\n",
       "5  bar    two -0.019665  0.382646 -1.048092 -0.095957\n",
       "6  foo    one  0.339223 -1.190486  0.067814 -0.095957\n",
       "7  foo  three  1.028830  0.180391 -0.107621 -0.095957"
      ]
     },
     "execution_count": 28,
     "metadata": {},
     "output_type": "execute_result"
    }
   ],
   "source": [
    "data.fillna(method='ffill')"
   ]
  },
  {
   "cell_type": "markdown",
   "metadata": {
    "slideshow": {
     "slide_type": "subslide"
    }
   },
   "source": [
    "And finally, I can plot the data (with styling by [Seaborn](http://seaborn.pydata.org/)"
   ]
  },
  {
   "cell_type": "code",
   "execution_count": 29,
   "metadata": {
    "collapsed": false
   },
   "outputs": [
    {
     "data": {
      "image/png": "[encoded data removed]",
      "text/plain": [
       "<matplotlib.figure.Figure at 0x1188d6f50>"
      ]
     },
     "metadata": {},
     "output_type": "display_data"
    }
   ],
   "source": [
    "import seaborn as sns\n",
    "data.plot();"
   ]
  },
  {
   "cell_type": "markdown",
   "metadata": {
    "slideshow": {
     "slide_type": "subslide"
    }
   },
   "source": [
    "I can even make my analysis into a presentation seamlessly!"
   ]
  },
  {
   "cell_type": "markdown",
   "metadata": {
    "slideshow": {
     "slide_type": "slide"
    }
   },
   "source": [
    "Once you learn the basics of the Jupyter notebook format, you can easily share with and learn from others! "
   ]
  },
  {
   "cell_type": "markdown",
   "metadata": {
    "slideshow": {
     "slide_type": "subslide"
    }
   },
   "source": [
    "<center><h1>\n",
    "nbviewer -- learn tons of concepts techniques from others!!\n",
    "<br>\n",
    "<img src=\"nbviewer.png\">\n",
    "http://nbviewer.jupyter.org/\n",
    "</center></h1>"
   ]
  },
  {
   "cell_type": "markdown",
   "metadata": {
    "slideshow": {
     "slide_type": "slide"
    }
   },
   "source": [
    "# An example of a whole workflows in Jupyter notebook:  http://www.datadrivenbuilding.org/\n",
    "\n",
    " <img src=\"datadrivenbuilding.png\">\n"
   ]
  },
  {
   "cell_type": "markdown",
   "metadata": {
    "slideshow": {
     "slide_type": "slide"
    }
   },
   "source": [
    "# Reproducible Research! :)\n",
    "\n",
    "https://github.com/jupyter/jupyter/wiki/A-gallery-of-interesting-Jupyter-Notebooks#reproducible-academic-publications"
   ]
  },
  {
   "cell_type": "markdown",
   "metadata": {
    "slideshow": {
     "slide_type": "slide"
    }
   },
   "source": [
    "<center><h1>\n",
    "JupyterCon\n",
    "<br>\n",
    "<img src=\"jupytercon.png\">\n",
    "https://conferences.oreilly.com/jupyter/jup-ny\n",
    "</center></h1>"
   ]
  },
  {
   "cell_type": "markdown",
   "metadata": {
    "slideshow": {
     "slide_type": "slide"
    }
   },
   "source": [
    "<center><h1>\n",
    "Shameless Plug time!<br>\n",
    "Speakers can do this at the end of their talks (incentive for volunteering!)\n",
    "<img src=\"https://media.giphy.com/media/KiM4CaujBdlDO/giphy.gif\">\n",
    "</center></h1>"
   ]
  },
  {
   "cell_type": "markdown",
   "metadata": {
    "slideshow": {
     "slide_type": "subslide"
    }
   },
   "source": [
    "<center><h1>\n",
    "Check out the Building and Urban Data Science Lab at NUS\n",
    "<br>\n",
    "<img src=\"budslab_banner.png\">\n",
    "http://www.budslab.org/\n",
    "</center></h1>\n"
   ]
  },
  {
   "cell_type": "markdown",
   "metadata": {},
   "source": [
    "https://www.yncdatahack.com/"
   ]
  },
  {
   "cell_type": "markdown",
   "metadata": {
    "slideshow": {
     "slide_type": "slide"
    }
   },
   "source": [
    "\n",
    "<h1><center>\n",
    "Are you interested in presenting some cool sh\\*t -- tools and techniques that are going to save your fellow CREATE/NUS/Yale-NUS buddies some time and headaches?\n",
    "<br><br>\n",
    "Come talk to me, Sergio, or Pieter! Message us on Meetup.com\n",
    "<br><br>\n",
    "Or email: miller.clayton@gmail.com\n",
    "</center></h1>"
   ]
  },
  {
   "cell_type": "markdown",
   "metadata": {
    "slideshow": {
     "slide_type": "subslide"
    }
   },
   "source": [
    "<h1><center>\n",
    "This notebook and its supporting docs can be found on GitHub!\n",
    "<br><br>\n",
    "https://github.com/buds-lab/jupyter-data-science-meetup\n",
    "</center></h1>"
   ]
  },
  {
   "cell_type": "markdown",
   "metadata": {
    "slideshow": {
     "slide_type": "subslide"
    }
   },
   "source": [
    "<h1><center>\n",
    "  <b>Next Meetup!</b>\n",
    "  <br>\n",
    "  Thursday, April 13 at the Future Cities Lab - Dr. Pieter Fourie\n",
    "  <br>\n",
    "  Practical Data Manipulation in R  \n",
    "   <img src=\"https://media.giphy.com/media/l0HlHFRbmaZtBRhXG/giphy.gif\">\n",
    "  \n",
    "</center></h1>\n"
   ]
  },
  {
   "cell_type": "markdown",
   "metadata": {
    "collapsed": false,
    "slideshow": {
     "slide_type": "subslide"
    }
   },
   "source": [
    "<h1><center>\n",
    " \n",
    "   <img src=\"https://media.giphy.com/media/zrj0yPfw3kGTS/giphy.gif\">\n",
    "  \n",
    "</center></h1>"
   ]
  },
  {
   "cell_type": "markdown",
   "metadata": {
    "slideshow": {
     "slide_type": "fragment"
    }
   },
   "source": [
    "<h1><center>\n",
    " \n",
    "   <img src=\"https://media.giphy.com/media/zPsUFzpNnzVK0/giphy.gif\">\n",
    "  \n",
    "</center></h1>\n"
   ]
  },
  {
   "cell_type": "code",
   "execution_count": 30,
   "metadata": {
    "collapsed": false,
    "slideshow": {
     "slide_type": "skip"
    }
   },
   "outputs": [],
   "source": [
    "# from IPython.display import Javascript\n",
    "# Javascript(\"\"\"var _giphy_tv_tag=\"beer\";\n",
    "#     var g = document.createElement('script'); g.type = 'text/javascript'; g.async = true;\n",
    "#     g.src = ('https:' == document.location.protocol ? 'https://' : 'http://') + 'giphy.com/static/js/widgets/tv.js';\n",
    "#     var s = document.getElementsByTagName('script')[0]; s.parentNode.insertBefore(g, s);\"\"\")"
   ]
  },
  {
   "cell_type": "code",
   "execution_count": null,
   "metadata": {
    "collapsed": true
   },
   "outputs": [],
   "source": []
  }
 ],
 "metadata": {
  "celltoolbar": "Slideshow",
  "hide_input": false,
  "kernelspec": {
   "display_name": "Python 2",
   "language": "python",
   "name": "python2"
  },
  "language_info": {
   "codemirror_mode": {
    "name": "ipython",
    "version": 2
   },
   "file_extension": ".py",
   "mimetype": "text/x-python",
   "name": "python",
   "nbconvert_exporter": "python",
   "pygments_lexer": "ipython2",
   "version": "2.7.12"
  }
 },
 "nbformat": 4,
 "nbformat_minor": 0
}
